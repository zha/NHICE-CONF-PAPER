{
 "cells": [
  {
   "cell_type": "code",
   "execution_count": 5,
   "metadata": {},
   "outputs": [
    {
     "name": "stdout",
     "output_type": "stream",
     "text": [
      "Name: pywincalc\n",
      "Version: 1.0.7\n",
      "Summary: UNKNOWN\n",
      "Home-page: UNKNOWN\n",
      "Author: UNKNOWN\n",
      "Author-email: UNKNOWN\n",
      "License: UNKNOWN\n",
      "Location: c:\\users\\administrator\\anaconda3\\lib\\site-packages\n",
      "Requires: \n",
      "Required-by: \n"
     ]
    }
   ],
   "source": [
    "# Codes below require the installation of pywindcal \n",
    "# Use version 1.0.7\n",
    "\n",
    "!pip show pywincalc"
   ]
  },
  {
   "cell_type": "markdown",
   "metadata": {},
   "source": [
    "# Algothrim for estimating the SHGC of window system"
   ]
  },
  {
   "cell_type": "code",
   "execution_count": 1,
   "metadata": {},
   "outputs": [],
   "source": [
    "import pickle\n",
    "import pywincalc\n",
    "import json\n",
    "\n",
    "def main(glzid, coated, trans_factor, ref_factor, emissivity):   # Make everything in a function for the convenience of use\n",
    "    glzid = glzid\n",
    "\n",
    "    # Read in the origional glazing data from the database\n",
    "    with open(r'C:\\Users\\Administrator\\Desktop\\onedrive\\OneDrive - University of Toronto\\window_database\\{}.pkl'.format(glzid),'rb') as f:\n",
    "        file_content = pickle.load(f)\n",
    "\n",
    "\n",
    "    import json\n",
    "    json_dict = json.loads(file_content.content)  # Convert string to JSON dictionary\n",
    "\n",
    "    if coated:\n",
    "        json_dict['coated_side'] = 'Back'\n",
    "        ## Manually modify the spectral data of clear glazing for all wavelength\n",
    "        for item in json_dict['spectral_data']['spectral_data']:\n",
    "            item['T'] = item['T'] * trans_factor\n",
    "            item['Rf'] = item['Rf'] * ref_factor\n",
    "\n",
    "        json_dict['emissivity_back'] = emissivity\n",
    "        ## Convert back to pywincalc object\n",
    "        glz_str = json.dumps(json_dict).replace(r\"'\",r'\"').replace(\"None\", 'null').replace(\"True\", \"true\").replace(\" \",'').replace(\"False\", \"false\")\n",
    "        glz_obj = pywincalc.parse_json(glz_str)   \n",
    "        return glz_obj\n",
    "    else:\n",
    "        uncoated = pywincalc.parse_json(file_content.content)\n",
    "\n",
    "        return uncoated\n",
    "\n"
   ]
  },
  {
   "cell_type": "markdown",
   "metadata": {},
   "source": [
    "# Validation"
   ]
  },
  {
   "cell_type": "code",
   "execution_count": 2,
   "metadata": {},
   "outputs": [],
   "source": [
    "import pandas as pd\n",
    "\n",
    "sdfsd= pd.read_csv('sdfsdfsdfsdfsdfsdfs.csv',index_col=0)\n",
    "\n",
    "\n",
    "estimated = []\n",
    "\n",
    "\n",
    "glz_obj = main(102, False, None, None)   \n",
    "standard_path = r\"C:\\Program Files (x86)\\LBNL\\LBNL Shared\\Standards\\W5_NFRC_2003.std\" \n",
    "standard = pywincalc.load_standard(standard_path)\n",
    "window_system = pywincalc.Glazing_System([glz_obj] ,[],standard, 1,1 )  # Width and height are both set to 1 m for the validation purposes\n",
    "estimated.append(window_system.shgc().result)\n",
    "\n",
    "\n",
    "\n",
    "for item in zip(sdfsd['Estimated Reduction in Solar Transmittance'][1:], sdfsd['Estimated Increase in Solar Reflectance'][1:] ):\n",
    "    glz_obj = main(102, True, *item)\n",
    "    \n",
    "    \n",
    "    standard_path = r\"C:\\Program Files (x86)\\LBNL\\LBNL Shared\\Standards\\W5_NFRC_2003.std\" \n",
    "    standard = pywincalc.load_standard(standard_path)\n",
    "\n",
    "    window_system = pywincalc.Glazing_System([glz_obj] ,[],standard, 1,1 )  # Width and height are both set to 1 m for the validation purposes\n",
    "    \n",
    "    \n",
    "    estimated.append(window_system.shgc().result)\n",
    "    \n",
    "    \n",
    "    \n",
    " "
   ]
  },
  {
   "cell_type": "code",
   "execution_count": 4,
   "metadata": {},
   "outputs": [
    {
     "data": {
      "image/png": "[encoded data removed]",
      "text/plain": [
       "<Figure size 432x432 with 3 Axes>"
      ]
     },
     "metadata": {
      "needs_background": "light"
     },
     "output_type": "display_data"
    }
   ],
   "source": [
    "import matplotlib.pyplot as plt\n",
    "import seaborn as sns\n",
    "from scipy import stats\n",
    "\n",
    "g = sns.JointGrid(estimated, sdfsd['SHGC'])\n",
    "g = g.plot_joint(plt.scatter, s=60, edgecolor=\"white\")\n",
    "rsquare = lambda a, b: stats.pearsonr(a, b)[0] ** 2\n",
    "g = g.annotate(rsquare, template=\"{stat}: {val:.2f}\", stat=\"$R^2$\", loc=\"upper left\", fontsize=15)"
   ]
  },
  {
   "cell_type": "code",
   "execution_count": null,
   "metadata": {},
   "outputs": [],
   "source": []
  },
  {
   "cell_type": "markdown",
   "metadata": {},
   "source": [
    "Comments:\n",
    "* Overall the model for SHGC estmiation shows a good agreement with what reported by the manufacture\n",
    "* In the following steps, this model will be used to generate the estimated SHGC for double-glazed window."
   ]
  },
  {
   "cell_type": "markdown",
   "metadata": {},
   "source": [
    "# Generate the parameters used in simulations"
   ]
  },
  {
   "cell_type": "code",
   "execution_count": 2,
   "metadata": {},
   "outputs": [],
   "source": [
    "def assembly(system_width, system_height, glaze_1, glaze_2, gap_1):\n",
    "\n",
    "\n",
    "    system_area = system_width * system_height\n",
    "\n",
    "    frame_wdith  = 53e-3  # value taken from ASHRAE fundamentals for Aluminum with thermal break. For operable window\n",
    "    \n",
    "\n",
    "    glazing_width  = system_width - frame_wdith * 2\n",
    "    glazing_height = system_height - frame_wdith * 2\n",
    "\n",
    "    frame_area = system_area - glazing_width * glazing_height\n",
    "\n",
    "\n",
    "    edge_width = 65e-3  # value taken from ASHRAE fundamentals, Section Edge-of-glass U-factor\n",
    "\n",
    "    glazing_center_area = (glazing_width - edge_width * 2) * (glazing_height - edge_width * 2)\n",
    "    glazing_edge_area = glazing_width * glazing_height - glazing_center_area\n",
    "\n",
    "\n",
    "\n",
    "\n",
    "    standard_path = r\"C:\\Program Files (x86)\\LBNL\\LBNL Shared\\Standards\\W5_NFRC_2003.std\" \n",
    "    standard = pywincalc.load_standard(standard_path)\n",
    "\n",
    "\n",
    "    gaps = [gap_1]\n",
    "    solid_layers = [glaze_1,glaze_2]\n",
    "\n",
    "    glazing_system_tripple_layer = pywincalc.Glazing_System(solid_layers, gaps, standard, system_width, system_height)\n",
    "    center_u = glazing_system_tripple_layer.u().result\n",
    "    glazing_SHGC = glazing_system_tripple_layer.shgc().result\n",
    "    edge_u = (0.078+ 0.998 * (center_u/5.678263) -0.175*(center_u/5.678263) **2)*5.678263\n",
    "    frame_u = 5.22   # ASHRAE Fundamentals\n",
    "    overall_u = (center_u * glazing_center_area + frame_u * frame_area + edge_u * glazing_edge_area)/system_area\n",
    "\n",
    "#     SHGC_frame = 0.9*frame_u/26\n",
    "    frame_absrptivity = 0.7    # value taken from Calculating the Solar Heat Gain of Window Frames \n",
    "    \n",
    "    hi = 8 + 4 * 5.67e-8 * 0.8 * (30 + 273.15)**3   # These are the summer conditions used in ISO 15099, formula ffrom ASHREA fundamentals, emissivity taken from Heat and Mass textbook for anodized aluminum\n",
    "    SHGC_frame = frame_absrptivity * 0.49 * frame_u / hi  # Formula from ASHRAE Fundamental \n",
    "#     print(glazing_SHGC)\n",
    "#     print(center_u)\n",
    "\n",
    "    SHGC_overall = (SHGC_frame * frame_area + glazing_SHGC * (glazing_width * glazing_height))/system_area  # formula from ASHRAE fundamentals\n",
    "\n",
    "\n",
    "\n",
    "    return overall_u, SHGC_overall\n"
   ]
  },
  {
   "cell_type": "code",
   "execution_count": 46,
   "metadata": {},
   "outputs": [
    {
     "name": "stdout",
     "output_type": "stream",
     "text": [
      "0.43170822295806754\n",
      "2.817916482320353\n"
     ]
    },
    {
     "data": {
      "text/plain": [
       "(3.3416691889602506, 0.38043844542951816)"
      ]
     },
     "execution_count": 46,
     "metadata": {},
     "output_type": "execute_result"
    }
   ],
   "source": [
    "\n",
    "test_layer1 = main(265, False, None, None, None)   \n",
    "test_layer2 = main(224, False, None, None, None)   \n",
    "\n",
    "\n",
    "assembly(1,1,test_layer1,test_layer2,pywincalc.Gap_Data(pywincalc.Gas_Type.AIR, .0127))\n",
    "\n"
   ]
  },
  {
   "cell_type": "code",
   "execution_count": 3,
   "metadata": {},
   "outputs": [],
   "source": [
    "import pandas as pd\n",
    "\n",
    "sdfsd= pd.read_csv('sdfsdfsdfsdfsdfsdfs.csv',index_col=0)\n",
    "\n",
    "U_keep = []\n",
    "SHGC_keep = []\n",
    "\n",
    "\n",
    "uncoated_layer = main(103, False, None, None, None)   \n",
    "\n",
    "U_o, SHGC_o = assembly(4, 2.7, uncoated_layer, uncoated_layer, pywincalc.Gap_Data(pywincalc.Gas_Type.AIR, .0127))\n",
    "# window_system = pywincalc.Glazing_System([uncoated_layer, uncoated_layer] ,[pywincalc.Gap_Data(pywincalc.Gas_Type.AIR, .0127)],standard, 4, 2.7 )  # Width and height are both set to 1 m for the validation purposes\n",
    "U_keep.append(U_o)\n",
    "SHGC_keep.append(SHGC_o)\n",
    "\n",
    "\n",
    "\n",
    "for item in zip(sdfsd['Estimated Reduction in Solar Transmittance'][1:], sdfsd['Estimated Increase in Solar Reflectance'][1:], sdfsd['Emissivity'][1:] ):   # do calculation for all of the known films\n",
    "    coated_layer = main(103, True, *item)\n",
    "    U_o, SHGC_o = assembly(4, 2.7, coated_layer, uncoated_layer, pywincalc.Gap_Data(pywincalc.Gas_Type.AIR, .0127))\n",
    "    U_keep.append(U_o)\n",
    "    SHGC_keep.append(SHGC_o)\n",
    "    "
   ]
  },
  {
   "cell_type": "code",
   "execution_count": 13,
   "metadata": {},
   "outputs": [
    {
     "data": {
      "text/plain": [
       "0.3173028001241785"
      ]
     },
     "execution_count": 13,
     "metadata": {},
     "output_type": "execute_result"
    }
   ],
   "source": [
    "test_layer = estimated[8].solid_layers[1]\n",
    "\n",
    "pywincalc.Glazing_System([test_layer], [], standard, 4, 2.7 ).shgc().result"
   ]
  },
  {
   "cell_type": "code",
   "execution_count": 5,
   "metadata": {},
   "outputs": [],
   "source": [
    "list_shgc = list(map(lambda x: x.shgc().result, estimated))"
   ]
  },
  {
   "cell_type": "code",
   "execution_count": 5,
   "metadata": {},
   "outputs": [
    {
     "data": {
      "text/plain": [
       "[0.6650091119074752,\n",
       " 0.41862785817430953,\n",
       " 0.38643460287191783,\n",
       " 0.33104016833967165,\n",
       " 0.26709672177921434,\n",
       " 0.26481273881642003,\n",
       " 0.17366954398606732,\n",
       " 0.29137359959760056,\n",
       " 0.2322066469380123,\n",
       " 0.16803118491864946,\n",
       " 0.37277770070765365,\n",
       " 0.2665306443691121,\n",
       " 0.16398980688381273,\n",
       " 0.1776671817941028,\n",
       " 0.15551558319678105,\n",
       " 0.19617468584695166,\n",
       " 0.2009776853148184,\n",
       " 0.18862282721272952]"
      ]
     },
     "execution_count": 5,
     "metadata": {},
     "output_type": "execute_result"
    }
   ],
   "source": [
    "SHGC_keep"
   ]
  },
  {
   "cell_type": "code",
   "execution_count": null,
   "metadata": {},
   "outputs": [],
   "source": []
  }
 ],
 "metadata": {
  "kernelspec": {
   "display_name": "Python 3",
   "language": "python",
   "name": "python3"
  },
  "language_info": {
   "codemirror_mode": {
    "name": "ipython",
    "version": 3
   },
   "file_extension": ".py",
   "mimetype": "text/x-python",
   "name": "python",
   "nbconvert_exporter": "python",
   "pygments_lexer": "ipython3",
   "version": "3.7.3"
  }
 },
 "nbformat": 4,
 "nbformat_minor": 2
}
