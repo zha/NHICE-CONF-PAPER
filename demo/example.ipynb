{
 "cells": [
  {
   "cell_type": "code",
   "execution_count": 1,
   "metadata": {},
   "outputs": [
    {
     "name": "stdout",
     "output_type": "stream",
     "text": [
      "External glazing configuration 0\n",
      "overall SHGC:  0.27923057501203924\n",
      "overall U 2.7821653328823777\n",
      "External glazing configuration 1\n",
      "overall SHGC:  0.3704208105233506\n",
      "overall U 2.7821653328823777\n",
      "External glazing configuration 2\n",
      "overall SHGC:  0.5291911476377583\n",
      "overall U 2.782700208932025\n",
      "Internal glazing configuration 0\n",
      "overall SHGC:  0.4853567868337614\n",
      "overall U 2.7333387742289807\n",
      "Internal glazing configuration 1\n",
      "overall SHGC:  0.49810899857183527\n",
      "overall U 2.7333387742289807\n",
      "Internal glazing configuration 2\n",
      "overall SHGC:  0.5260456817533162\n",
      "overall U 2.7333387742289807\n"
     ]
    }
   ],
   "source": [
    "import sys\n",
    "sys.path.insert(0, r'..')\n",
    "from window_overall import WinProp\n",
    "exts = ['../dat/EXT_GLZ_0.DAT','../dat/EXT_GLZ_1.DAT','../dat/EXT_GLZ_2.DAT']\n",
    "ints = ['../dat/INT_GLZ_0.DAT','../dat/INT_GLZ_1.DAT','../dat/INT_GLZ_2.DAT']\n",
    "clear = '../dat/CLEAR_6.DAT'\n",
    "\n",
    "for i, item1 in enumerate(exts):\n",
    "    obj = WinProp(4, 2.7, item1, clear, 'AIR')\n",
    "    print('External glazing configuration {}'.format(i))\n",
    "    print('overall SHGC: ', obj.overallSHGC)\n",
    "    print('overall U', obj.overallU)\n",
    "    \n",
    "for i, item2 in enumerate(ints):\n",
    "    print('Internal glazing configuration {}'.format(i))\n",
    "    obj = WinProp(4, 2.7, clear, item2, 'AIR')\n",
    "    print('overall SHGC: ', obj.overallSHGC)\n",
    "    print('overall U', obj.overallU)\n",
    "    "
   ]
  },
  {
   "cell_type": "code",
   "execution_count": null,
   "metadata": {},
   "outputs": [],
   "source": []
  }
 ],
 "metadata": {
  "kernelspec": {
   "display_name": "Python 3",
   "language": "python",
   "name": "python3"
  },
  "language_info": {
   "codemirror_mode": {
    "name": "ipython",
    "version": 3
   },
   "file_extension": ".py",
   "mimetype": "text/x-python",
   "name": "python",
   "nbconvert_exporter": "python",
   "pygments_lexer": "ipython3",
   "version": "3.7.3"
  }
 },
 "nbformat": 4,
 "nbformat_minor": 2
}
